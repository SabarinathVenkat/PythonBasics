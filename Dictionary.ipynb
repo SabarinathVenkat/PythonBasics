{
 "cells": [
  {
   "cell_type": "code",
   "execution_count": null,
   "metadata": {},
   "outputs": [],
   "source": [
    "#Dictionary\n",
    "\n",
    "sensors =  {\"living room\": 21, \"kitchen\": 23, \"bedroom\": 20, \"pantry\": 22}\n",
    "num_cameras = {\"backyard\": 6,  \"garage\": 2, \"driveway\": 1}\n",
    "\n",
    "\n",
    "print(sensors)"
   ]
  },
  {
   "cell_type": "code",
   "execution_count": null,
   "metadata": {},
   "outputs": [],
   "source": [
    "#List,Number,Character as different keys can be added in same dictionary object\n",
    "\n",
    "person = {\"name\": \"Shuri\", \"age\": 18, \"siblings\": [\"T'Chaka\", \"Ramonda\"]}"
   ]
  },
  {
   "cell_type": "code",
   "execution_count": null,
   "metadata": {},
   "outputs": [],
   "source": [
    "#To Add item  in Dictionary\n",
    "\n",
    "animals_in_zoo={}\n",
    "animals_in_zoo[\"zebras\"] = 8\n",
    "animals_in_zoo[\"monkeys\"] = 12\n",
    "print(animals_in_zoo)"
   ]
  },
  {
   "cell_type": "code",
   "execution_count": null,
   "metadata": {},
   "outputs": [],
   "source": [
    "#Multiple item add in single shot\n",
    "\n",
    "user_ids = {\"teraCoder\": 9018293, \"proProgrammer\": 119238}\n",
    "user_ids.update({\"theLooper\": 138475, \"stringQueen\": 85739})\n",
    "print(user_ids)"
   ]
  },
  {
   "cell_type": "code",
   "execution_count": null,
   "metadata": {},
   "outputs": [],
   "source": [
    "#comprehensive dictionary\n",
    "\n",
    "drinks = [\"espresso\", \"chai\", \"decaf\", \"drip\"]\n",
    "caffeine = [64, 40, 0, 120]\n",
    "zipped_drinks = zip(drinks, caffeine)\n",
    "drinks_to_caffeine = {key: value for key, value in zipped_drinks}"
   ]
  },
  {
   "cell_type": "code",
   "execution_count": null,
   "metadata": {},
   "outputs": [],
   "source": [
    "#Complete Dictionary\n",
    "\n",
    "songs = [\"Like a Rolling Stone\", \"Satisfaction\", \"Imagine\", \"What's Going On\", \"Respect\", \"Good Vibrations\"]\n",
    "playcounts = [78, 29, 44, 21, 89, 5]\n",
    "plays = {key:value for key, value in zip(songs,playcounts)}\n",
    "print(plays)\n",
    "plays[\"Purple Haze\"] = 1\n",
    "plays[\"Respect\"] = 94\n",
    "library = {\"The Best Songs\":plays, \"Sunday Feelings\":{}}\n",
    "print(library)"
   ]
  },
  {
   "cell_type": "code",
   "execution_count": null,
   "metadata": {},
   "outputs": [],
   "source": [
    "#Existence of Key Check\n",
    "\n",
    "zodiac_elements = {\"water\": [\"Cancer\", \"Scorpio\", \"Pisces\"], \"fire\": [\"Aries\", \"Leo\", \"Sagittarius\"], \"earth\": [\"Taurus\", \"Virgo\", \"Capricorn\"], \"air\":[\"Gemini\", \"Libra\", \"Aquarius\"]}\n",
    "zodiac_elements[\"energy\"] = \"Not a Zodiac element\"\n",
    "print(zodiac_elements[\"energy\"])\n",
    "key = \"sabari\"\n",
    "if key in zodiac_elements:\n",
    "  print(zodiac_elements[\"sabari\"])\n",
    "else:\n",
    "  zodiac_elements[\"sabari\"] = \"This is Sabari\"\n",
    "  print(zodiac_elements[\"sabari\"])"
   ]
  },
  {
   "cell_type": "code",
   "execution_count": null,
   "metadata": {},
   "outputs": [],
   "source": [
    "# check ky by get value\n",
    "\n",
    "user_ids = {\"teraCoder\": 100019, \"pythonGuy\": 182921, \"samTheJavaMaam\": 123112, \"lyleLoop\": 102931, \"keysmithKeith\": 129384}\n",
    "\n",
    "tc_id = user_ids.get(\"teraCoder\", 100000)\n",
    "stack_id = user_ids.get(\"superStackSmash\", 100000)\n",
    "\n",
    "print(tc_id)\n",
    "print(stack_id)\n",
    "\n",
    "\n",
    "tempid1 = user_ids.get(\"pythonGuy\",55)\n",
    "print(tempid1)\n",
    "tempid1 = user_ids.get(\"pdythonGuy\",55)\n",
    "print(tempid1)"
   ]
  },
  {
   "cell_type": "code",
   "execution_count": null,
   "metadata": {},
   "outputs": [],
   "source": [
    "#Delete \n",
    "\n",
    "available_items = {\"health potion\": 10, \"cake of the cure\": 5, \"green elixir\": 20, \"strength sandwich\": 25, \"stamina grains\": 15, \"power stew\": 30}\n",
    "health_points = 20\n",
    "\n",
    "health_points += available_items.pop(\"stamina grains\", 0)\n",
    "health_points += available_items.pop(\"power stew\", 0)\n",
    "health_points += available_items.pop(\"mystic bread\", 0)\n",
    "\n",
    "print(available_items)\n",
    "print(health_points)"
   ]
  },
  {
   "cell_type": "code",
   "execution_count": null,
   "metadata": {},
   "outputs": [],
   "source": [
    "#Iterating Keys And Values Seperately\n",
    "\n",
    "user_ids = {\"teraCoder\": 100019, \"pythonGuy\": 182921, \"samTheJavaMaam\": 123112, \"lyleLoop\": 102931, \"keysmithKeith\": 129384}\n",
    "num_exercises = {\"functions\": 10, \"syntax\": 13, \"control flow\": 15, \"loops\": 22, \"lists\": 19, \"classes\": 18, \"dictionaries\": 18}\n",
    "users = user_ids.keys()\n",
    "values = user_ids.values()\n",
    "for keys in users:\n",
    "  print(keys)\n",
    "for val in values:\n",
    "  print(val)"
   ]
  },
  {
   "cell_type": "code",
   "execution_count": null,
   "metadata": {},
   "outputs": [],
   "source": [
    "#Iterating Keys and Values Together\n",
    "\n",
    "pct_women_in_occupation = {\"CEO\": 28, \"Engineering Manager\": 9, \"Pharmacist\": 58, \"Physician\": 40, \"Lawyer\": 37, \"Aerospace Engineer\": 9}\n",
    "for position,age in pct_women_in_occupation.items():\n",
    "  print(\"Position : \" + position + \" Age \" + str(age))\n",
    "\n",
    "#Complete Task\n",
    "\n",
    "tarot = { 1:\t\"The Magician\", 2:\t\"The High Priestess\", 3:\t\"The Empress\", 4:\t\"The Emperor\", 5:\t\"The Hierophant\", 6:\t\"The Lovers\", 7:\t\"The Chariot\", 8:\t\"Strength\", 9:\t\"The Hermit\", 10:\t\"Wheel of Fortune\", 11:\t\"Justice\", 12:\t\"The Hanged Man\", 13:\t\"Death\", 14:\t\"Temperance\", 15:\t\"The Devil\", 16:\t\"The Tower\", 17:\t\"The Star\", 18:\t\"The Moon\", 19:\t\"The Sun\", 20:\t\"Judgement\", 21:\t\"The World\", 22: \"The Fool\"}\n",
    "\n",
    "spread = {}"
   ]
  },
  {
   "cell_type": "code",
   "execution_count": null,
   "metadata": {},
   "outputs": [],
   "source": [
    "#Frequency In Dictionary\n",
    "\n",
    "def frequency_dictionary(words):\n",
    "  freqs = {}\n",
    "  for word in words:\n",
    "    if word not in freqs:\n",
    "    \tfreqs[word] = 0\n",
    "    freqs[word] += 1\n",
    "  return freqs\n",
    "\n",
    "# Uncomment these function calls to test your  function:\n",
    "print(frequency_dictionary([\"apple\", \"apple\",\"apple\" ,\"cat\", 1]))\n",
    "# should print {\"apple\":2, \"cat\":1, 1:1}\n",
    "print(frequency_dictionary([0,0,0,0,0]))\n",
    "# should print {0:5}\n",
    "\n",
    "spread[\"past\"] = tarot.pop(13)\n",
    "spread[\"present\"] = tarot.pop(22)\n",
    "spread[\"future\"] = tarot.pop(10)\n",
    "\n",
    "for key, value in spread.items():\n",
    "  print(\"Your \"+key+\" is the \"+value+\" card. \")\n"
   ]
  },
  {
   "cell_type": "code",
   "execution_count": null,
   "metadata": {},
   "outputs": [],
   "source": [
    "#Sample Project on Dictionaries\n",
    "\n",
    "letters = [\"A\", \"B\", \"C\", \"D\", \"E\", \"F\", \"G\", \"H\", \"I\", \"J\", \"K\", \"L\", \"M\", \"N\", \"O\", \"P\", \"Q\", \"R\", \"S\", \"T\", \"U\", \"V\", \"W\", \"X\", \"Y\", \"Z\"]\n",
    "points = [1, 3, 3, 2, 1, 4, 2, 4, 1, 8, 5, 1, 3, 4, 1, 3, 10, 1, 1, 1, 1, 4, 4, 8, 4, 10]\n",
    "letters_to_points = {key:value for key,value in zip(letters,points)}\n",
    "letters_to_points[\" \"] = 0\n",
    "def score_word(word):\n",
    "  point_total=0\n",
    "  for value in word:\n",
    "    singleval = letters_to_points.get(value,0)\n",
    "    point_total += singleval\n",
    "  return point_total\n",
    "brownie_points = score_word(\"BROWNIE\")\n",
    "print(brownie_points)\n"
   ]
  }
 ],
 "metadata": {
  "kernelspec": {
   "display_name": "Python 3",
   "language": "python",
   "name": "python3"
  },
  "language_info": {
   "codemirror_mode": {
    "name": "ipython",
    "version": 3
   },
   "file_extension": ".py",
   "mimetype": "text/x-python",
   "name": "python",
   "nbconvert_exporter": "python",
   "pygments_lexer": "ipython3",
   "version": "3.7.3"
  }
 },
 "nbformat": 4,
 "nbformat_minor": 2
}
