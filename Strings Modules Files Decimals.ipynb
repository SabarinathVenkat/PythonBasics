{
 "cells": [
  {
   "cell_type": "code",
   "execution_count": null,
   "metadata": {},
   "outputs": [],
   "source": [
    "\n",
    "def substring_between_letters(word, start, end):\n",
    "  start_ind = word.find(start)\n",
    "  end_ind = word.find(end)\n",
    "  print(start_ind)\n",
    "  print(end_ind)\n",
    "  if start_ind > -1 and end_ind > -1:\n",
    "  \treturn(word[start_ind+1:end_ind])\n",
    "  return word\n",
    "\n",
    "# Uncomment these function calls to test your tip function:\n",
    "print(substring_between_letters(\"apple\", \"p\", \"e\"))\n",
    "# should print \"pl\"\n",
    "print(substring_between_letters(\"apple\", \"p\", \"c\"))\n",
    "# should print \"apple\""
   ]
  },
  {
   "cell_type": "code",
   "execution_count": null,
   "metadata": {},
   "outputs": [],
   "source": [
    "#Modules\n",
    "\n",
    "Modules\n",
    "\n",
    "# Import datetime from datetime below:\n",
    "from datetime import datetime \n",
    "current_datetime = datetime.now()\n",
    "print(current_datetime)\n",
    "# To get the details of Module\n",
    "help(datetime\n"
   ]
  },
  {
   "cell_type": "code",
   "execution_count": null,
   "metadata": {},
   "outputs": [],
   "source": [
    "\n",
    "#Random\n",
    "\n",
    "import random\n",
    "\n",
    "# Create random_list below:\n",
    "random_list = [random.randint(1,101) for i in range(101)]\n",
    "\n",
    "# Create randomer_number below:\n",
    "randomer_number = random.choice(random_list)\n",
    "\n",
    "# Print randomer_number below:\n",
    "print(randomer_number)"
   ]
  },
  {
   "cell_type": "code",
   "execution_count": null,
   "metadata": {},
   "outputs": [],
   "source": [
    "#Decimal\n",
    "\n",
    "# Import Decimal below:\n",
    "from decimal import Decimal\n",
    "\n",
    "# Fix the floating point math below:\n",
    "two_decimal_points = Decimal('0.2') + Decimal('0.69')\n",
    "print(two_decimal_points)\n",
    "\n",
    "four_decimal_points = Decimal('0.53') * Decimal('0.65')\n",
    "print(four_decimal_points)"
   ]
  },
  {
   "cell_type": "code",
   "execution_count": null,
   "metadata": {},
   "outputs": [],
   "source": [
    "#Different Files\n",
    "\n",
    "library.py\n",
    "\n",
    "def always_three():\n",
    "  return 3\n",
    "\n",
    "script.py\n",
    "\n",
    "# Import library below:\n",
    "\n",
    "import library as lib\n",
    "  \n",
    "# Call your function below:\n",
    "\n",
    "print(lib.always_three())"
   ]
  },
  {
   "cell_type": "code",
   "execution_count": null,
   "metadata": {},
   "outputs": [],
   "source": [
    "\n",
    "#Second Way\n",
    "\n",
    "# Import library below:\n",
    "from library import always_three\n",
    "\n",
    "\n",
    "# Call your function below:\n",
    "always_three()"
   ]
  },
  {
   "cell_type": "code",
   "execution_count": null,
   "metadata": {},
   "outputs": [],
   "source": []
  }
 ],
 "metadata": {
  "kernelspec": {
   "display_name": "Python 3",
   "language": "python",
   "name": "python3"
  },
  "language_info": {
   "codemirror_mode": {
    "name": "ipython",
    "version": 3
   },
   "file_extension": ".py",
   "mimetype": "text/x-python",
   "name": "python",
   "nbconvert_exporter": "python",
   "pygments_lexer": "ipython3",
   "version": "3.7.3"
  }
 },
 "nbformat": 4,
 "nbformat_minor": 2
}
