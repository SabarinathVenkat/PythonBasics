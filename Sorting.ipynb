{
 "cells": [
  {
   "cell_type": "code",
   "execution_count": 2,
   "metadata": {},
   "outputs": [
    {
     "name": "stdout",
     "output_type": "stream",
     "text": [
      "['London', 'Los Angeles', 'New York', 'Paris', 'Rome']\n"
     ]
    }
   ],
   "source": [
    "#Sorting\n",
    "\n",
    "cities = ['London', 'Paris', 'Rome', 'Los Angeles', 'New York']\n",
    "cities.sort()\n",
    "\n",
    "#To store the sorting in a variable\n",
    "\n",
    "Sortedlist = sorted(cities)\n",
    "print(Sortedlist)"
   ]
  }
 ],
 "metadata": {
  "kernelspec": {
   "display_name": "Python 3",
   "language": "python",
   "name": "python3"
  },
  "language_info": {
   "codemirror_mode": {
    "name": "ipython",
    "version": 3
   },
   "file_extension": ".py",
   "mimetype": "text/x-python",
   "name": "python",
   "nbconvert_exporter": "python",
   "pygments_lexer": "ipython3",
   "version": "3.7.3"
  }
 },
 "nbformat": 4,
 "nbformat_minor": 2
}
