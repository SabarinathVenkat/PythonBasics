{
 "cells": [
  {
   "cell_type": "code",
   "execution_count": 1,
   "metadata": {},
   "outputs": [
    {
     "name": "stdout",
     "output_type": "stream",
     "text": [
      "[3, 8, -20, 12]\n",
      "[4, 23, 42]\n"
     ]
    }
   ],
   "source": [
    "def double_index1(lst,index):\n",
    "  try:\n",
    "    if index < len(lst):\n",
    "          lst[index] = lst[index] * 2\n",
    "    return lst\n",
    "  except:\n",
    "      print('Error')\n",
    "      return lst\n",
    "print(double_index1([3, 8, -10, 12], 2))\n",
    "\n",
    "# Remove Middle\n",
    "\n",
    "def remove_middle(lst, start, end):\n",
    "  return lst[:start] + lst[end+1:]\n",
    "\n",
    "#Uncomment the line below when your function is done\n",
    "print(remove_middle([4, 8, 15, 16, 23, 42], 1, 3))"
   ]
  },
  {
   "cell_type": "code",
   "execution_count": null,
   "metadata": {},
   "outputs": [],
   "source": [
    "# Sorted\n",
    "\n",
    "def combine_sort(lst1, lst2):\n",
    "  unsorted = lst1 + lst2\n",
    "  sortedList = sorted(unsorted)\n",
    "  return sortedList\n",
    "\n",
    "#Uncomment the line below when your function is done\n",
    "print(combine_sort([4, 10, 2, 5], [-10, 2, 5, 10]))"
   ]
  },
  {
   "cell_type": "code",
   "execution_count": null,
   "metadata": {},
   "outputs": [],
   "source": [
    "dog_breeds = ['french_bulldog', 'dalmatian', 'shihtzu', 'poodle', 'collie']\n",
    "for breeds in dog_breeds:\n",
    " print(breeds)"
   ]
  },
  {
   "cell_type": "code",
   "execution_count": null,
   "metadata": {},
   "outputs": [],
   "source": [
    "promise = \"I will not chew gum in class\"\n",
    "for i in range(10):\n",
    " print(promise)"
   ]
  },
  {
   "cell_type": "code",
   "execution_count": null,
   "metadata": {},
   "outputs": [],
   "source": [
    "dog_breeds_available_for_adoption = ['french_bulldog', 'dalmation', 'shihtzu', 'poodle', 'collie']\n",
    "dog_breed_I_want = 'dalmation'\n",
    "\n",
    "for dog_breed in dog_breeds_available_for_adoption:\n",
    "  print(dog_breed)\n",
    "  if dog_breed == dog_breed_I_want:\n",
    "    print(\"They have the dog I want!\")\n",
    "    break"
   ]
  },
  {
   "cell_type": "code",
   "execution_count": null,
   "metadata": {},
   "outputs": [],
   "source": [
    "\n",
    "ages = [12, 38, 34, 26, 21, 19, 67, 41, 17]\n",
    "for age in ages:\n",
    "  if age<21:\n",
    "    continue\n",
    "  print(age)"
   ]
  },
  {
   "cell_type": "code",
   "execution_count": null,
   "metadata": {},
   "outputs": [],
   "source": [
    "all_students = [\"Alex\", \"Briana\", \"Cheri\", \"Daniele\", \"Dora\", \"Minerva\", \"Alexa\", \"Obie\", \"Arius\", \"Loki\"]\n",
    "students_in_poetry = []\n",
    "\n",
    "while len(students_in_poetry) < 6:\n",
    "  student = all_students.pop()\n",
    "  students_in_poetry.append(student)\n",
    "  \n",
    "print(students_in_poetry)"
   ]
  },
  {
   "cell_type": "code",
   "execution_count": null,
   "metadata": {},
   "outputs": [],
   "source": [
    "#Multiple Loop\n",
    "sales_data = [[12, 17, 22], [2, 10, 3], [5, 12, 13]]\n",
    "\n",
    "scoops_sold = 0\n",
    "\n",
    "for location in sales_data:\n",
    "  print(location)\n",
    "  for element in location:\n",
    "    scoops_sold += element\n",
    "\n",
    "print(scoops_sold)"
   ]
  },
  {
   "cell_type": "code",
   "execution_count": null,
   "metadata": {},
   "outputs": [],
   "source": [
    "#List Comprehension Query\n",
    "\n",
    "heights = [161, 164, 156, 144, 158, 170, 163, 163, 157]\n",
    "can_ride_coaster = [height for height in heights if height>161]\n",
    "print(list(can_ride_coaster))"
   ]
  },
  {
   "cell_type": "code",
   "execution_count": null,
   "metadata": {},
   "outputs": [],
   "source": [
    "celsius = [0, 10, 15, 32, -5, 27, 3]\n",
    "fahrenheit= [(celsiusis * 9/5) + 32  for celsiusis in celsius]\n",
    "print(fahrenheit)"
   ]
  },
  {
   "cell_type": "code",
   "execution_count": null,
   "metadata": {},
   "outputs": [],
   "source": [
    "single_digits = [0,1,2,3,4,5,6,7,8,9]\n",
    "[print(item) for item in single_digits]\n",
    "squares =[]\n",
    "[squares.append(item * item) for item in single_digits]\n",
    "print(squares)\n",
    "cubes = [cubes ** 3 for cubes in single_digits]\n",
    "print(cubes)"
   ]
  },
  {
   "cell_type": "code",
   "execution_count": null,
   "metadata": {},
   "outputs": [],
   "source": [
    "def odd_indices(lst):\n",
    "  newlist=[]\n",
    "  for i in range(1,len(lst),2):\n",
    "   newlist.append(lst[i])\n",
    "  return newlist\n",
    "    \n",
    "\n",
    "#Uncomment the line below when your function is done\n",
    "print(odd_indices([4, 3, 7, 10, 11, -2]))\n"
   ]
  }
 ],
 "metadata": {
  "kernelspec": {
   "display_name": "Python 3",
   "language": "python",
   "name": "python3"
  },
  "language_info": {
   "codemirror_mode": {
    "name": "ipython",
    "version": 3
   },
   "file_extension": ".py",
   "mimetype": "text/x-python",
   "name": "python",
   "nbconvert_exporter": "python",
   "pygments_lexer": "ipython3",
   "version": "3.7.3"
  }
 },
 "nbformat": 4,
 "nbformat_minor": 2
}
