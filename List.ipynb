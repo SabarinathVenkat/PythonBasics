{
 "cells": [
  {
   "cell_type": "code",
   "execution_count": 1,
   "metadata": {},
   "outputs": [
    {
     "name": "stdout",
     "output_type": "stream",
     "text": [
      "[2, 4, 6, 8, 10, 12, 14, 16, 18]\n",
      "9\n",
      "6\n"
     ]
    }
   ],
   "source": [
    "list1 = range(2, 20, 2)\n",
    "templist = list(list1)\n",
    "print(list(list1))\n",
    "print(len(templist))\n",
    "print(templist[2])\n"
   ]
  },
  {
   "cell_type": "code",
   "execution_count": 2,
   "metadata": {},
   "outputs": [
    {
     "name": "stdout",
     "output_type": "stream",
     "text": [
      "6\n",
      "cereal\n",
      "cereal\n"
     ]
    }
   ],
   "source": [
    "shopping_list = ['eggs', 'butter', 'milk', 'cucumbers', 'juice', 'cereal']\n",
    "print(len(shopping_list))\n",
    "last_element = shopping_list[-1]\n",
    "element5 = shopping_list[5]\n",
    "print(last_element)\n",
    "print(element5)"
   ]
  },
  {
   "cell_type": "code",
   "execution_count": 3,
   "metadata": {},
   "outputs": [
    {
     "name": "stdout",
     "output_type": "stream",
     "text": [
      "['shirt', 'shirt']\n",
      "['shirt', 'shirt', 'pants'] ['pajamas', 'books']\n"
     ]
    }
   ],
   "source": [
    "suitcase = ['shirt', 'shirt', 'pants', 'pants', 'pajamas', 'books']\n",
    "beginning = suitcase[0:2]\n",
    "print(beginning)\n",
    "suitcase = ['shirt', 'shirt', 'pants', 'pants', 'pajamas', 'books']\n",
    "start = suitcase[:3]\n",
    "end = suitcase[4:]b\n",
    "print(start, end)"
   ]
  },
  {
   "cell_type": "code",
   "execution_count": 4,
   "metadata": {},
   "outputs": [
    {
     "name": "stdout",
     "output_type": "stream",
     "text": [
      "9\n"
     ]
    }
   ],
   "source": [
    "votes = ['Jake', 'Jake', 'Laurie', 'Laurie', 'Laurie', 'Jake', 'Jake', 'Jake', 'Laurie', 'Cassie', 'Cassie', 'Jake', 'Jake', 'Cassie', 'Laurie', 'Cassie', 'Jake', 'Jake', 'Cassie', 'Laurie']\n",
    "\n",
    "jake_votes = votes.count(\"Jake\")\n",
    "print(jake_votes)"
   ]
  },
  {
   "cell_type": "code",
   "execution_count": null,
   "metadata": {},
   "outputs": [],
   "source": [
    "#Sorting\n",
    "\n",
    "cities = ['London', 'Paris', 'Rome', 'Los Angeles', 'New York']\n",
    "cities.sort()\n",
    "\n",
    "#To store the sorting in a variable\n",
    "\n",
    "Sortedlist = sorted(cities)\n",
    "print(Sortedlist)"
   ]
  },
  {
   "cell_type": "code",
   "execution_count": 5,
   "metadata": {},
   "outputs": [],
   "source": [
    "inventory = ['twin bed', 'twin bed', 'headboard', 'queen bed', 'king bed', 'dresser', 'dresser', 'table', 'table', 'nightstand', 'nightstand', 'king bed', 'king bed', 'twin bed', 'twin bed', 'sheets', 'sheets', 'pillow', 'pillow']\n",
    "\n",
    "inventory_len = len(inventory)\n",
    "first = inventory[0]\n",
    "last = inventory[-1]\n",
    "inventory_2_6 = inventory[2:6]\n",
    "first_3 = inventory[:3]\n",
    "twin_beds = inventory.count('twin bed')\n",
    "inventory.sort()"
   ]
  },
  {
   "cell_type": "code",
   "execution_count": null,
   "metadata": {},
   "outputs": [],
   "source": [
    "toppings = ['pepperoni','pineapple','cheese','sausage','olives','anchovies',\n",
    "'mushrooms']\n",
    "prices  = [2,6,1,3,2,7,2]\n",
    "num_pizzas = len(toppings)\n",
    "print(\"We sell \" + str(num_pizzas) + \" different kinds of pizza!\")\n",
    "pizzas = list(zip(toppings,prices))\n",
    "print(pizzas)\n",
    "def sortSecond(val): \n",
    "    return val[1] \n",
    "pizzas.sort(key=sortSecond)\n",
    "print(pizzas)\n",
    "cheapest_pizza = pizzas[:0]\n",
    "priciest_pizza = pizzas[-1]\n",
    "three_cheapest = pizzas[0:3]\n",
    "print(three_cheapest)\n",
    "num_two_dollar_slices = prices.count(2)\n",
    "print(num_two_dollar_slices)"
   ]
  },
  {
   "cell_type": "code",
   "execution_count": null,
   "metadata": {},
   "outputs": [],
   "source": []
  }
 ],
 "metadata": {
  "kernelspec": {
   "display_name": "Python 3",
   "language": "python",
   "name": "python3"
  },
  "language_info": {
   "codemirror_mode": {
    "name": "ipython",
    "version": 3
   },
   "file_extension": ".py",
   "mimetype": "text/x-python",
   "name": "python",
   "nbconvert_exporter": "python",
   "pygments_lexer": "ipython3",
   "version": "3.7.3"
  }
 },
 "nbformat": 4,
 "nbformat_minor": 2
}
